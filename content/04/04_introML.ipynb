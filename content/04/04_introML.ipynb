{
 "cells": [
  {
   "cell_type": "markdown",
   "metadata": {},
   "source": [
    "# Intro to Machine Learning\n"
   ]
  },
  {
   "cell_type": "markdown",
   "metadata": {},
   "source": [
    "\n",
    "The general process is:\n",
    "\n",
    "<img src='flowchart.png' style=\"width:500px\">\n"
   ]
  },
  {
   "cell_type": "markdown",
   "metadata": {},
   "source": [
    "Let's work backwards in discussing those steps.\n",
    "\n",
    "## The objective of machine learning\n",
    "\n",
    "Basically, ML tasks tend to fall into sets of tasks:\n",
    "- Prediction accuracy (e.g. of the label or the group detection) \n",
    "- Feature selection (which X variables and non-linearities should be in the model)\n",
    "\n",
    "And for both of those, the idea is that what the model learns will work **out-of-sample**. This focus on learning something that generalizes outside of the data we have is key to understanding most of the choices you make in a ML project.\n",
    "\n",
    "Econometrically, the goal is to estimate a model on a sample (the data we have) that works on the population (all of the data that the process can and will generate).  \n",
    "\n",
    "### The bias-variance tradeoff\n",
    "\n",
    "It turns out we can decompose the expected error of _a model_ like this:\n",
    "\n",
    "\\begin{align}\n",
    "E[\\text{model error risk}] = \\text{model bias}^2+\\text{model variance}+\\text{noise}\n",
    "\\end{align}\n",
    "\n",
    "_(If you want to see the derviation of this, you can go to the [wiki page](https://en.wikipedia.org/wiki/Bias%E2%80%93variance_tradeoff) or [DS100](https://www.textbook.ds100.org/ch/15/bias_modeling.html). The former's notation is a little simpler but the latter is more helpful with intuition)_\n",
    "\n",
    "**\"Model bias\"**\n",
    "- **Def: Is errors stemming from the model's assumptions in how it predicts the outcome variable**\n",
    "- It's the opposite of model accuracy\n",
    "- Adding more variables or polynomial transformations of existing variables will usually reduce bias \n",
    "- Removing features will usually increase bias\n",
    "- Adding more data to the training dataset can (but might not) reduce variance\n",
    "\n",
    "**\"Model variance\"**\n",
    "- **Def: Is extent to which estimated model varies from sample to sample**\n",
    "- Adding more a new parameter (variables, etc) will usually increase model variance\n",
    "- Adding more data to the training dataset will reduces variance\n",
    "\n",
    "**Decreasing Noise**\n",
    "- To reduce the noise term, you need more data, better data collection, and more accurate measurements\n",
    "\n",
    "**To decrease bias and variance, however, we must tune the complexity of our models.**\n",
    "\n",
    "  >\t**THE FUNDAMENTAL TRADEOFF: Increasing model complexity increases its variance but reduces its bias** \n",
    "  >\t- Models that are too simple have high bias but low variance \n",
    "  >\t- Models that are too complex have the opposite problem\n",
    "  >\t- Collecting a TON of data can allow you to use complex models with less variance \n",
    "  >\n",
    "  > This is the essence of the bias-variance tradeoff, a fundamental issue that we face in choosing models for prediction.\"\n",
    "  \n",
    "_(This is adapted from [DS100](https://www.textbook.ds100.org/ch/15/bias_modeling.html))_\n",
    "\n",
    "Visually, that is \n",
    "\n",
    "<table> <tr> <td style=\"text-align:center\"> <b> (A) The classic bias-variance tradeoff </b> </td> <td style=\"text-align:center\"> <b> (B) Adding more data reduces variance <br> at each level of complexity </b> </td> </tr> <tr> </tr>\n",
    "    <tr><td><img src='bias_modeling_bias_var_plot.png' style=\"width:300px\"></td><td><img src='bias_modeling_bias_var_shift.png' style=\"width:300px\"></td></tr></table>\n",
    "\n",
    "- Models that are too simple are said to be **\"underfit\"** and this is usually caused by bias\n",
    "- Models that are too complicated are said to be **\"overfit\"** and this is usually caused by variance\n",
    "\n"
   ]
  },
  {
   "cell_type": "markdown",
   "metadata": {},
   "source": [
    "### Minimizing model risk\n",
    "\n",
    "Our tools to minimize model risk:\n",
    "1. More data\n",
    "2. Feature engineering (adding, cleaning, and selecting features; dimensionality reduction). \n",
    "3. Model selection\n",
    "4. Model evaluation via cross validation (CV)\n",
    "\n",
    "You should absolutely [read this](https://jakevdp.github.io/PythonDataScienceHandbook/05.04-feature-engineering.html) on feature engineering, and [this for model selection](https://jakevdp.github.io/PythonDataScienceHandbook/05.03-hyperparameters-and-model-validation.html).\n",
    "\n",
    "Let's dig into CV here because it gets at the flow of testing a model:"
   ]
  },
  {
   "cell_type": "markdown",
   "metadata": {},
   "source": [
    "## Model evaluation via cross validation (CV)\n",
    "\n",
    "### Holdout sample\n",
    "\n",
    "So we need a way to estimate the test error. The way we do that is by creating a **holdout sample** (step \\#2 in the flowchart above) to test the model at the end of the process. \n",
    "\n",
    "**YOU CAN ONLY USE THE HOLDOUT SAMPLE ONCE! If you use it during the iterative training/evaluation process, it stops being a a holdout sample and effectively becomes part of the training set.**\n",
    "\n",
    "Then, in the flowchart, we enter the grey box where all the ML magic happens, and pre-process the data (step \\#3).\n",
    "\n",
    "### Training sample\n",
    "\n",
    "So, we have the holdout sample and the training sample. \n",
    "\n",
    "If we fit the model on the training sample, and then examine its performance against the same sample, the error will be misleadingly low. (Duh! We fit the model on it!) \n",
    "\n",
    "It would be nice to have an extra test set, wouldn't it? So, we split our training set again, into a _**smaller training set**_ and a _**validation set**_. \n",
    "- We estimate and fit our model on the training set\n",
    "- We estimate the error of our model on the validation set\n",
    "\n",
    "### Train-validate-holdout: How big should they be?\n",
    "\n",
    "Depends. Commonly, it's 70%-15%-15%. \n",
    "\n",
    "### K-Fold Cross-Validation \n",
    "\n",
    "Problem: 70% and 15% might not be enough training data. \n",
    "\n",
    "Solution: K-Fold Cross-Validation. Take the 85% of the sample that isn't the holdout and split it up into a training and validation set, fit the model, and test it. Then repeat that by dividing the data into a new training/validation split. And repeat this $k$ times.\n",
    "\n",
    "Here, it looks like this:\n",
    "\n",
    "![From DS100](feature_5_fold_cv.jpg)\n",
    "\n",
    "### Summary of CV\n",
    "\n",
    "1. Separate out part of the dataset as a \"holdout\" or \"test\" set. The rest of the data is the \"training set\".\n",
    "2. Start steps \\#3-\\#5 of the flowchart. \n",
    "    1. Split the \"training set\" up into a smaller \"training\" set and a \"validation set\".\n",
    "    2. Estimate the model on the smaller training set. The error of the model on this is the \"training error\".\n",
    "    3. Apply the model to the validation set to calculate the \"validation error\".\n",
    "    4. Repeat these \"training-validation\" steps $k$ times to get the average validation error.\n",
    "    5. The model that has the lowest average validation error is your model.\n",
    "3. Test the model against the holdout test sample and compute your final \"test error\". You are done, and forbidden from tweaking the model now. \n",
    "    "
   ]
  },
  {
   "cell_type": "markdown",
   "metadata": {},
   "source": [
    "### Evaluating models\n",
    "\n",
    "How do you measure accuracy of predictions or the model's fit? There are more, but the most common statistics to report are\n",
    "\n",
    "| Measurement | Measures |\n",
    "| :--- | :--- |\n",
    "| R2  | | \n",
    "| True Positive Rate (TPR) aka **\"Sensitivity\"** aka **\"Recall\"** = 1-FNR | _What fraction of the true positives do you call positive?_ |\n",
    "| True Negative Rate (TNR) aka **\"Specificity\"** = 1-FPR | _What fraction of the true negatives do you call negative?_ |\n",
    "| **\"Precision\"** | _How precise are your positive labels? <br> What fraction of what you labeled positive are truly positive?_ |\n",
    "| **\"Accuracy\"** | _What fraction of predictions made are correct?_ |\n",
    "| False Positive Rate (FPR) = 1-TNR | _What fraction of the true negatives do you call positive?_ |\n",
    "| False Negative Rate (FNR) = 1-TPR | _What fraction of the true positives do you call negative?_ |\n",
    "| F1 | Combines recall and precision |\n",
    "\n",
    "If you're a visual person, the figures below might help. In the figure below, your classifier calls the objects in the circle positive, the left half are true positives, and the right half are true negatives.\n",
    "\n",
    "<table><tr><td><img src='https://upload.wikimedia.org/wikipedia/commons/e/e7/Sensitivity_and_specificity.svg' style=\"width:300px\"></td><td><img src='https://upload.wikimedia.org/wikipedia/commons/thumb/2/26/Precisionrecall.svg/800px-Precisionrecall.svg.png' style=\"width:300px\"></td></tr></table>\n",
    "\n",
    "#### Which measurement should you use?\n",
    "\n",
    "It depends! You have to think about your problem:\n",
    "- In medical testing, false negative is really bad, so tests tend to focus on minimizing false negatives at the expense of increasing false positives. \n",
    "- In the legal field, false positives (imprisoning an innocent person) are considered worse that false negatives.\n",
    "- Identifying terrorists? You might want to maximize the detection rate (\"recall\"). Of course, simply saying \"everyone is a terrorist\" is guaranteed to work! So you also should think about \"precision\" too. Maybe F1 is the metric for you. \n"
   ]
  },
  {
   "cell_type": "markdown",
   "metadata": {},
   "source": [
    "## Model selection\n",
    "\n",
    "Step \\#4 of the flowchart. You need to pick the right model for your job. One way to pick amongst the possible options is to consider whether or not you need a supervised model.\n",
    "\n",
    "### A dichotomy of ML models\n",
    "\n",
    "__*Supervised learning models*,__ try to predict _**\"labels\"**_ (you can think of these as $y$ values) based on training data that already has the $y$ variable in it (\"labeled data\"). E.g., \n",
    "- Regression: Predicting continuous labels \n",
    "- Classification: Predicting discrete categorical variables (two or more values)\n",
    "\n",
    "__*Unsupervised learning models*,__ build structure on unlabeled data. E.g.,\n",
    "- Clustering: Models that detect and identify distinct groups in the data\n",
    "- Dimensionality reduction: Models reduce the number of _**\"features\"**_ (variables)\n",
    "\n",
    "The [PythonDataScienceHandbook](https://jakevdp.github.io/PythonDataScienceHandbook/05.01-what-is-machine-learning.html) has a nice introductory list of example applications for ML techniques, and the [`sklearn` example page](https://scikit-learn.org/stable/auto_examples/index.html) has a rather comprehensive set of examples with code!"
   ]
  },
  {
   "cell_type": "markdown",
   "metadata": {},
   "source": [
    "## Required reading\n",
    "\n",
    "1. [This on feature engineering](https://jakevdp.github.io/PythonDataScienceHandbook/05.04-feature-engineering.html)\n",
    "2. [This on model selection](https://jakevdp.github.io/PythonDataScienceHandbook/05.03-hyperparameters-and-model-validation.html)\n",
    "3. Peruse/skim the [examples here](https://jakevdp.github.io/PythonDataScienceHandbook/05.01-what-is-machine-learning.html) \n",
    "4. Peruse/skim the [examples on the sklearn site, which come with code](https://scikit-learn.org/stable/auto_examples/index.html)"
   ]
  },
  {
   "cell_type": "markdown",
   "metadata": {},
   "source": [
    "## Acknowledgments\n",
    "\n",
    "- [DS100](https://www.textbook.ds100.org/intro)\n",
    "- [PDSH](https://jakevdp.github.io/PythonDataScienceHandbook/index.html)"
   ]
  }
 ],
 "metadata": {
  "celltoolbar": "Tags",
  "kernelspec": {
   "display_name": "Python 3",
   "language": "python",
   "name": "python3"
  },
  "language_info": {
   "codemirror_mode": {
    "name": "ipython",
    "version": 3
   },
   "file_extension": ".py",
   "mimetype": "text/x-python",
   "name": "python",
   "nbconvert_exporter": "python",
   "pygments_lexer": "ipython3",
   "version": "3.7.6"
  }
 },
 "nbformat": 4,
 "nbformat_minor": 4
}
