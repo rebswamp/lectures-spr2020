{
 "cells": [
  {
   "cell_type": "markdown",
   "metadata": {},
   "source": [
    "# `sklearn` essentials"
   ]
  },
  {
   "cell_type": "markdown",
   "metadata": {},
   "source": [
    "This page is just a quick-hit of `sklearn` and is a living document. It's not meant as a walkthrough. (Clearly!)\n",
    "\n",
    "Modifications, additions, and suggestions are truly welcomed!\n",
    "\n",
    "A smattering of key `sklearn` functions and thoughts. Parameters we talked about in class are explicitly included below, but you should look at the documentation to see the parameters for all functions before you use them!\n",
    "- `Xtrain, Xtest, ytrain, ytest = train_test_split(X, y, random_state=<#>,train_size=<%>)`\n",
    "- `cross_validate(model,X,y,cv,scoring)` covered extensively in class [here](https://github.com/LeDataSciFi/lectures-spr2020/blob/master/assignment_data/L20%20worksheet.ipynb)\n",
    "- Optimizing the parameters of a specific model: `GridSearchCV`, or `RandomizedSearchCV` \n",
    "- Scoring functions per last lecture and how to pass to `cross_validate`\n",
    "- How to compare different models by looping over them with `cross_validate`\n",
    "- `confusion_matrix` \n",
    "- `classification_report` \n",
    "- Fold generators: `KFold`, `StratifiedKFold`, `GroupKFold`, `TimeSeriesSplit`\n",
    "    - Stratified is probably better when proportions are lop-sided\n",
    "    - Do you have multiple obs per \"group\" (a firm, person, etc.) and want to ensure no group is in both training and testing? `GroupKFold`    \n",
    "    - If you shuffle or introduce randomization, set `random_state`! \n",
    "    - Is time an important parameter! E.g. are you predicting stock prices? `TimeSeriesSplit`\n",
    "- `make_pipeline` for chaining steps in an estimation sequence \n"
   ]
  },
  {
   "cell_type": "markdown",
   "metadata": {},
   "source": [
    "## Great resources\n",
    "\n",
    "1. [The best bookmark you can set](https://scikit-learn.org/stable/user_guide.html)\n",
    "1. [On folds](https://scikit-learn.org/stable/modules/cross_validation.html#cross-validation-iterators)\n",
    "1. [PDSH on SVM](https://jakevdp.github.io/PythonDataScienceHandbook/05.07-support-vector-machines.html) and on [Random Forests](https://jakevdp.github.io/PythonDataScienceHandbook/05.08-random-forests.html) (note some module calls are obsolete, so you might need to update code) \n",
    "\n",
    "If you find other resources you think other people might benefit from, please email me!"
   ]
  },
  {
   "cell_type": "markdown",
   "metadata": {},
   "source": [
    "## A rough pseudo-code for ML prediction\n",
    "\n",
    "VERY ROUGH. Learning isn't a straight line or sequence of code. It's a cycle, a loop. \n",
    "\n",
    "```python\n",
    "# imports\n",
    "# load data \n",
    "\n",
    "## optimize a series of models\n",
    "# set up pipeline for model type #1; set up hyper param grid; find optimal hyper param\n",
    "#     the pipeline includes preprocessing, estimator\n",
    "#     you should spend time interrogating model predictions, plotting and printing\n",
    "#     does the model struggle predicting certain obs? excel at some?\n",
    "# set up pipeline for model type #2; set up hyper param grid; find optimal hyper param\n",
    "# ...\n",
    "# set up pipeline for model type #N; set up hyper param grid; find optimal hyper param\n",
    "\n",
    "## compare the N optimized models\n",
    "# build list of models\n",
    "# for model in models:\n",
    "#    cross_validate(model, X, y,...)\n",
    "# pick the winner!\n",
    "\n",
    "```"
   ]
  },
  {
   "cell_type": "markdown",
   "metadata": {},
   "source": [
    "## A bunch of import statements \n",
    "\n",
    "Any code you write might use none of these, some of these, or all of them!"
   ]
  },
  {
   "cell_type": "code",
   "execution_count": null,
   "metadata": {},
   "outputs": [],
   "source": [
    "# dataset loader\n",
    "from sklearn import datasets\n",
    "\n",
    "# model training and evalutation utilities \n",
    "from sklearn.model_selection import train_test_split\n",
    "from sklearn.model_selection import cross_validate\n",
    "from sklearn.model_selection import StratifiedKFold # this is one way to generate folds\n",
    "from sklearn.model_selection import KFold\n",
    "\n",
    "# metrics\n",
    "from sklearn.metrics import accuracy_score\n",
    "from sklearn.metrics import classification_report\n",
    "from sklearn.metrics import confusion_matrix\n",
    "from sklearn.metrics import accuracy_score\n",
    "\n",
    "# preprocessing and feature extraction\n",
    "from sklearn.feature_extraction import DictVectorizer\n",
    "from sklearn.preprocessing import OneHotEncoder\n",
    "from sklearn import preprocessing\n",
    "from sklearn.impute import SimpleImputer\n",
    "\n",
    "# feature selection\n",
    "\n",
    "# models\n",
    "from sklearn.svm import SVC\n",
    "from sklearn.neighbors import KNeighborsClassifier\n",
    "from sklearn.linear_model import LinearRegression\n",
    "from sklearn import linear_model\n",
    "from sklearn.linear_model import LogisticRegression\n",
    "from sklearn.tree import DecisionTreeClassifier\n",
    "from sklearn.discriminant_analysis import LinearDiscriminantAnalysis\n",
    "from sklearn.naive_bayes import GaussianNB\n",
    "\n",
    "# toy data\n",
    "X, y = datasets.load_iris(return_X_y=True)\n",
    "X.shape, y.shape\n",
    "\n"
   ]
  }
 ],
 "metadata": {
  "kernelspec": {
   "display_name": "Python 3",
   "language": "python",
   "name": "python3"
  },
  "language_info": {
   "codemirror_mode": {
    "name": "ipython",
    "version": 3
   },
   "file_extension": ".py",
   "mimetype": "text/x-python",
   "name": "python",
   "nbconvert_exporter": "python",
   "pygments_lexer": "ipython3",
   "version": "3.7.6"
  }
 },
 "nbformat": 4,
 "nbformat_minor": 4
}
