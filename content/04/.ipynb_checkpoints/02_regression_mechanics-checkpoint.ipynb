{
 "cells": [
  {
   "cell_type": "markdown",
   "metadata": {},
   "source": [
    "# Regression Mechanics\n",
    "\n",
    "## Housecleaning\n",
    "\n",
    "<img src=\"https://i.imgur.com/9LNt8ji.jpg\" alt=\"Drawing\" style=\"width: 400px;\"/>\n",
    "\n",
    "### Teams\n",
    "\n",
    "#### Who still needs one?\n",
    "\n",
    "#### GitHub for your team\n",
    "\n",
    "GitHub set up two locations for your team:\n",
    "1. A team area where you can add discussions and extra repos if you want to experiment. The URL is like this: https://github.com/orgs/LeDataSciFi/teams/corona-crushers \n",
    "1. The usual repo URL structure for the assignment: https://github.com/LeDataSciFi/semester-project-corona-crushers \n",
    "\n",
    "### The proposal, due Monday\n",
    "\n",
    "[I moved what was here to the project assignment page](https://ledatascifi.github.io/assignments/project.html).\n"
   ]
  },
  {
   "cell_type": "markdown",
   "metadata": {},
   "source": [
    "## Collaboration as a group\n",
    "\n",
    "### **Q: How should you \"meet\"?**\n",
    "\n",
    "A: It's up to you! Be entrepreneurial and run your group as you all see fit. \n",
    "- WhatsApp, groupme, google doc, zoom, skype...\n",
    "- How can we work on code at the same time? Crowdsourced from your students\n",
    "    - Zoom allows for sharing screen, and others can jump in and control\n",
    "    - Probably best to \"give ownership\" over parts to different people\n",
    "    \n",
    "### **Q: How do we code \"at the same time\"?**\n",
    "\n",
    "The main issue is that two people might make conflicting changes. E.g., Johnny added a line to `data.py` but Cindy deleted a line from `data.py`.\n",
    "\n",
    "A: You have, basically, three approaches, and you might use all three at different points of the project:\n",
    "1. **Free-for-all approach** Everyone works in the \"master\" branch of the repo all the time. This is what your default instinct might be. It can work, but you will have to fix merge conflicts to update and progress at all. \n",
    "    - One option is the \"one person at a time on one code file at a time\".\n",
    "1. **The \"branching\" approach.** Basically, you create an offshoot of the folder to work on, and when you're done and happy, you create a \"pull request\" where you ask the main project's owner (your own team, in this case) to pull your branch's changes up to the main repo.\n",
    "    - See [here for a walkthrough](https://www.attosol.com/create-and-merge-branches-using-github-desktop-client/).\n",
    "1. **The fork-and-clone approach.**\n",
    "    - You fork the repo (make your own version), clone it to your computer, make changes there, push it up to GitHub, then give a pull request.\n",
    "    - It's somewhat like branching, but your work is outside the repo completely. I would probably recommend not using this. \n",
    "    - But if you want to try this, [here is a walkthrough](https://guides.github.com/activities/forking/).\n",
    "    \n",
    "### Feedback request / Discussion Participation\n",
    "\n",
    "**I would love your feedback on how you deal with the asynchronous work problem!** \n",
    "- Please let me know what issues/problems your group runs into\n",
    "- What solutions did you use (were they good or awful?)\n",
    "- If your group has an easy time, or finds something that works well, please let me and your classmates know! \n",
    "- Submit your experience on this via the discussion board \n",
    "\n",
    "Because of the shift to remote learning, the participation grade is going to rely heavily on discussions in the issue repo.\n",
    "- Questions and issues you ask \n",
    "- Answers and discussion you have on classmates' issues is absolutely key\n",
    "- Quantity and quality of your posts both matter!\n",
    "- Review the instructions for [\"how to ask for help\"](https://ledatascifi.github.io/studentresourcevert/resource-landing.html#how-to-properly-ask-for-help) before you post your next issue\n",
    "    \n",
    "### Recommendations\n",
    "\n",
    "1. No matter which of the three approaches, you choose, **FOLLOW THESE RULES EVERY SINGLE TIME YOU WORK ON CODE OR DO ANYTHING IN THE FOLDER:**\n",
    "    - BEFORE YOU START A CODING SESSION: Go to GH Desktop and \"Fetch/Pull\" origin\n",
    "    - WHEN YOU ARE DONE WITH A SESSION: Clear your code, rerun all, save file, then push to cloud\n",
    "    \n",
    "    **It's very important to do these every single time you code on your computer in group projects!**\n",
    "    \n",
    "    **Why?**\n",
    "    \n",
    "    If you forget to fetch/pull before you start (and someone made a change on the github repo since you last synced), or if someone is working at the same time (and pushes a change to the github repo that conflicts with a change you made), you are likely to receive a \"Merge Conflict\" notification from GH Desktop.\n",
    "    \n",
    "2. Your most experienced coder might be given \"CEO\" status over the repo and \"leads the way\" on pull requests and gives guidance on merge conflicts.\n",
    "3. Instead of putting the entire project in one ipynb file, structure the project like the latest assignment: \n",
    "    - One code file to download each input needed, \n",
    "    - One code file to parse/transform each input, \n",
    "    - One \"get_all_data\" code file that, if executed, would run all files above\n",
    "    - One code to build the analysis sample, explore it, and analyze it \n",
    "\n",
    "\n",
    "\n",
    "### Branching Demo\n",
    "\n",
    "![](https://media.giphy.com/media/d7neiLOpRXaz5bueyd/giphy.gif)"
   ]
  },
  {
   "cell_type": "markdown",
   "metadata": {},
   "source": [
    "## Regression\n",
    "\n",
    "![](https://media.giphy.com/media/nwyqBwP65XCAU/giphy.gif)\n",
    "\n",
    "### Required reading for this topic\n",
    "\n",
    "1. [Chapters 22-24 of R 4 Data Science](https://r4ds.had.co.nz/model-intro.html) are an excellent overview of the thought process of modeling\n",
    "2. Use `statsmodels.api` to make nice regression tables by [following this guide](https://python.quantecon.org/ols.html) (you can use different data though)\n",
    "3. If you want to train a model using more sophisticated ML ideas (which we will talk about some later in the course!), use `sklearn.linear_model` and [follow this guide](https://jakevdp.github.io/PythonDataScienceHandbook/05.06-linear-regression.html) (you can use different data though)\n",
    "    - _The \"Linear Regression\" section [here](https://becominghuman.ai/linear-regression-in-python-with-pandas-scikit-learn-72574a2ec1a5) shows how you can run regressions on training samples and test them out of sample_\n",
    "    \n",
    "### Demo on Diamonds\n",
    "\n",
    "Inspired by R4DS.\n",
    "\n",
    "![](https://media.giphy.com/media/piXrzDejeWIM/giphy.gif)\n"
   ]
  },
  {
   "cell_type": "markdown",
   "metadata": {},
   "source": [
    "### Homework\n",
    "\n",
    "1. Load the titanic dataset from `sns` and try some regressions.\n",
    "2. Required reading above.\n",
    "3. Obviously, the 5th assignment is nearly due.\n",
    "3. As is your team's proposal."
   ]
  },
  {
   "cell_type": "markdown",
   "metadata": {},
   "source": [
    "### Objectives\n",
    "\n",
    "1. You can fit a regression with `statsmodels.api` or `sklearn.linear_model`\n",
    "2. You can view the results of your model with either\n",
    "3. Practice estimating and interpreting linear models\n",
    "\n",
    "![](https://media.giphy.com/media/yoJC2K6rCzwNY2EngA/giphy.gif)\n"
   ]
  }
 ],
 "metadata": {
  "kernelspec": {
   "display_name": "Python 3",
   "language": "python",
   "name": "python3"
  },
  "language_info": {
   "codemirror_mode": {
    "name": "ipython",
    "version": 3
   },
   "file_extension": ".py",
   "mimetype": "text/x-python",
   "name": "python",
   "nbconvert_exporter": "python",
   "pygments_lexer": "ipython3",
   "version": "3.7.6"
  }
 },
 "nbformat": 4,
 "nbformat_minor": 4
}
