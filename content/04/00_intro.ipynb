{
 "cells": [
  {
   "cell_type": "markdown",
   "metadata": {},
   "source": [
    "# Prediction Models and Data Analysis\n",
    "\n",
    "The syllabus says that the rest of the class is about\n",
    "\n",
    ">    understanding the how “data analysis/ML/«buzz word #51»” fit into the bigger picture of producing and using knowledge.* to quote Prof Gunther: data < info < knowledge < wisdom\n",
    ">\n",
    ">    what we’re going to do with the data. executing and improving a model. applied econometrics (ie more conceptual than mathematical rigor) to understand and improve the output\n",
    ">\n",
    ">    learning from the model: what does the output of my analysis mean? (A and B are related, but WHY)\n",
    "\n",
    "So that's what we're going to do. We have enough raw tools and you should have (nearly) completed your first farm-to-table analysis  (scrap, clean, and process the data) for Assignment 5.\n",
    "\n",
    "Over the next month, we going to cover\n",
    "- regression (how-to, why-to, and what it \"means\")\n",
    "- boosted regression trees\n",
    "- clustering algorithms\n",
    "- natural language processing\n",
    "- the whole time, we're going to stay focused on \"WHY\" we are doing what we are doing rather than just flying ahead blind\n",
    "\n",
    "This should be fun!\n",
    "\n",
    "![](https://media.giphy.com/media/LW4nOT7mAVaZq/giphy.gif)\n"
   ]
  }
 ],
 "metadata": {
  "kernelspec": {
   "display_name": "Python 3",
   "language": "python",
   "name": "python3"
  },
  "language_info": {
   "codemirror_mode": {
    "name": "ipython",
    "version": 3
   },
   "file_extension": ".py",
   "mimetype": "text/x-python",
   "name": "python",
   "nbconvert_exporter": "python",
   "pygments_lexer": "ipython3",
   "version": "3.7.6"
  }
 },
 "nbformat": 4,
 "nbformat_minor": 4
}
