{
 "cells": [
  {
   "cell_type": "markdown",
   "metadata": {},
   "source": [
    "# Modeling Intro"
   ]
  },
  {
   "cell_type": "markdown",
   "metadata": {},
   "source": [
    "## But first, let's acknowledge how crazy it is out there...\n",
    "\n",
    "![](vix.png)\n",
    "\n",
    "[Still, experts recommend keeping your daily rituals even while working from home](https://www.reddit.com/r/funny/comments/fjie8a/experts_recommend_keeping_your_daily_rituals_even/)\n",
    "\n",
    "![](https://i.redd.it/t2ytkrmu90n41.png)\n",
    "\n",
    "\n",
    "**Seriously: If you have issues with internet, food, security, stability, anything: Please let me and possibly Lehigh staff know. We will try to find and direct resources your way.**\n",
    "\n",
    "## Zoom... I didn't expect this to be an online class. I'm sure nothing will go terribly wrong..."
   ]
  },
  {
   "cell_type": "code",
   "execution_count": 2,
   "metadata": {
    "tags": [
     "remove_input"
    ]
   },
   "outputs": [
    {
     "data": {
      "text/html": [
       "<iframe width=\"560\" height=\"315\" src=\"https://www.youtube.com/embed/q0ObP9P_aZk\" frameborder=\"0\" allow=\"accelerometer; autoplay; encrypted-media; gyroscope; picture-in-picture\" allowfullscreen></iframe>"
      ],
      "text/plain": [
       "<IPython.core.display.HTML object>"
      ]
     },
     "execution_count": 2,
     "metadata": {},
     "output_type": "execute_result"
    }
   ],
   "source": [
    "from IPython.display  import HTML\n",
    "\n",
    "HTML('<iframe width=\"560\" height=\"315\" src=\"https://www.youtube.com/embed/q0ObP9P_aZk\" frameborder=\"0\" allow=\"accelerometer; autoplay; encrypted-media; gyroscope; picture-in-picture\" allowfullscreen></iframe>')"
   ]
  },
  {
   "cell_type": "markdown",
   "metadata": {},
   "source": [
    "[Link to that](https://www.youtube.com/watch?v=q0ObP9P_aZk)\n",
    "\n",
    "- When you join the classroom: Ensure your mic is muted, then click on the \"participation\" and \"chat\" buttons\n",
    "- If you have a second screen at home, use one for Zoom and one for Jupyter\n",
    "- If you don't have a second screen, I recommend making the zoom screen the left side and Jupyter the right side of your screen.\n",
    "    - on windows, click on the Zoom app and hit <kbd>Windows</kbd> + <kbd>Left</kbd> to snap it left, and then click on your Jupyter window and click <kbd>Windows</kbd> + <kbd>Right</kbd> to snap it right\n",
    "    - on mac, [follow these instructions](https://support.apple.com/en-us/HT204948) \n",
    "    "
   ]
  },
  {
   "cell_type": "markdown",
   "metadata": {},
   "source": [
    "## But second first, some thoughts about the assignment\n",
    "\n",
    "- Due Monday!\n",
    "- Up/down: Do the new instructions make sense?\n",
    "- Let me show you what my directory looks like...\n",
    "- Chat window: What question do you have about the new instructions, or generally about the assignment as you try to finish it?\n"
   ]
  },
  {
   "cell_type": "markdown",
   "metadata": {},
   "source": [
    "##  The promise of machine learning\n",
    "\n",
    "1. Robo-advising\n",
    "2. Manage risk (loans and insurance) to reduce write-offs and lower costs for consumers\n",
    "3. Prevent and detect fraud (external and internal)\n",
    "4. Investment choices - stocks, real estates (where to put factories, banks, etc)\n",
    "5. Improve ad offers to credit customers\n",
    "\n",
    "[Accenture thinks AI will add $140B of](https://www.forbes.com/sites/donnafuscaldo/2019/12/19/ais-promise-140-billion-in-productivity-gains-for-financial-services-firms/#576a08fe3533) value to financial service firms alone via cost and productivity savings by 2025. \n",
    "\n",
    "Don't you want to capture a little of that?"
   ]
  },
  {
   "cell_type": "markdown",
   "metadata": {},
   "source": [
    "## Machine Learning gone  wrong\n",
    "\n",
    "- [Google Flu Trends](https://gking.harvard.edu/files/gking/files/0314policyforumff.pdf) consistently over predicted flu prevalence\n",
    "- IBM's Watson tried to predict cancer. How'd it go? According to internal documents: \"This product is a piece of sh–.\"\n",
    "- Amazon's engineers used ML to evaluate applicants but taught the model [that males were automatically better](https://www.theguardian.com/technology/2018/oct/10/amazon-hiring-ai-gender-bias-recruiting-engine)\n",
    "- Chatbots have had many struggles. Here's Microsoft's [attempt at speaking like the youths](https://medium.com/asecuritysite-when-bob-met-alice/machine-learning-gone-bad-990e132024ea):\n",
    "\n",
    "    ![](https://www.lexalytics.com/lexablog/wp-content/uploads/2018/05/TayChatbotFail-300x260.jpeg)\n",
    "- ML/AI methods replicate patterns in the data by design: [If you give it data with human biases, then the AI can easily become biased.](https://arxiv.org/pdf/1608.07187.pdf) This has led to debates about how to use ML for \n",
    "    - Criminal sentencing [based on \"risk predictions\"](https://www.propublica.org/article/machine-bias-risk-assessments-in-criminal-sentencing) overweight race\n",
    "    - [Online advertising](https://arxiv.org/abs/1301.6822) - Google is more likely to serve up arrest records in searches for names assigned \"primarily to black babies\"\n",
    "- Google will stitch together photos\n",
    "    <img src=https://i.imgur.com/60fTgCg.jpg width=\"500\">\n",
    "\n",
    "I guess Google's AI thought the guy was built like a mountain...\n"
   ]
  },
  {
   "cell_type": "markdown",
   "metadata": {},
   "source": [
    "## How to define a project and structure the process\n",
    "\n",
    "> A few times a year, I get asked to be a judge of student statistical projects in politics or sports. While the students are very bright, they spend WAY too much time using fancy statistical methods and not enough time framing the right questions and contextualizing their answers. If you want to be a good data scientist, you should spend ~49% of your time developing your statistical intuition (i.e. how to ask good questions of the data), and ~49% of your time on domain knowledge (improving overall understanding of your field). Only ~2% on methods per se. - Nate Silver\n",
    "\n",
    "\n",
    "### Start with an interesting question or problem\n",
    "\n",
    "   > Before you begin the analysis, know the questions you're trying to answer and what you're trying to accomplish - don't fall into an analytical rabbit hole. Additionally, you should know some basic things about your potential data - what data sources are available to answer the questions? How is that data structured? Is it in a database? CSVs? Third-party APIs? What tools will you be able to use for the analysis?\n",
    "   > \n",
    "   > **Your approach will likely change throughout, but it's helpful to start with a plan and adjust.**\n",
    "    \n",
    "Two types of questions:    \n",
    "- Relationships: Do airline closures affect how VCs monitor portfolio companies? _(Positively, negatively, or not? How much? Is the relationship because one causes the other, or something else?)_\n",
    "- Predictions: Which loans will default? \n",
    "\n",
    "### Pick your model(s) \n",
    "\n",
    "**A model is an idealized representation of a system**\n",
    "- \"All models are wrong, but some are useful\" - George Box\n",
    "    - Really! \n",
    "- Relationship model: When people have one ice cream cone, they are 2% more likely to drown\n",
    "    - Model should summarize the data\n",
    "    - Simpler models are better because they are easier to interpret\n",
    "    - **Example: Linear models (usually regression) are nice: $final grade = b + m * midterm grade$**\n",
    "- Prediction model: Loan defaults over the next three months are 20% more likely for restaurant and service workers.\n",
    "    - More complex models are often favored\n",
    "    - May not summarize the data, and often are impossible to interpret\n",
    "    - **Example: Nearest neighbor model: $final grade = nearest neighbor(midterm grade)$**\n",
    "\n",
    "**To estimate any model**\n",
    "\n",
    "We will talk in depth about a few models in class, but generally, these three steps always apply: \n",
    "1. Select a model. (For example: find the \"center\" of a univariate distribution, regression, logistic)\n",
    "    - Use knowledge about the area to help pick \n",
    "2. Select a loss function. (For example: Mean squared error, mean absolute deviation, R2)\n",
    "    - There are many loss functions!\n",
    "    - The loss function choice affects the accuracy and speed of estimation\n",
    "    - Choice depends on the estimation task\n",
    "    - Qualitative or quantitative data?\n",
    "    - Are all errors equal? (A false negative on a cancer test is much worse than a false positive!)\n",
    "    - Do outliers matter more or less? \n",
    "    - Some models often imply the loss function. For example, regression's loss function is almost always Mean Squared Error. \n",
    "3. Fit the model by minimizing the loss.\n",
    "\n",
    "\n",
    "    \n",
    "### Required reading before Thursday\n",
    "\n",
    "1. [Principles of good data analysis, by Greg Reda](http://www.gregreda.com/2014/03/23/principles-of-good-data-analysis/)\n",
    "2. [Chapter 10 of Data 100](https://www.textbook.ds100.org/ch/10/modeling_intro.html)\n",
    "3. [How Big Investors Cash in on Alternative Data](https://www.bloomberg.com/news/articles/2019-11-09/how-big-investors-cash-in-on-alternative-data-quicktake)\n",
    "\n"
   ]
  },
  {
   "cell_type": "markdown",
   "metadata": {},
   "source": [
    "## Starting our projects\n",
    "\n",
    "- Projects groups of 3 or 4. You'll collaborate within a GitHub repo (more soon on that).\n",
    "\n",
    "### Timeline:\n",
    "\n",
    "[See the project assignment page](https://ledatascifi.github.io/assignments/project.html).\n",
    "\n",
    "### Collective brainstorming\n",
    "\n",
    "**Discussion time:** I'll keep track of a list - Let's free form this...\n",
    "\n",
    "- What interesting applications of \"big data\" have you seen? \n",
    "- Think about interesting firms, developing stories (COVID), business problems you've seen.\n",
    "- We need a finance angle, which includes but is not limited to:\n",
    "    - Fed policy\n",
    "    - Investment platforms\n",
    "    - Asset returns\n",
    "    - Retirement planning\n",
    "    - Crypto\n",
    "    - Firm investments\n",
    "    - Real estate\n",
    "    - Fraud\n",
    "    - Cybersecurity\n",
    "\n",
    "### Teams\n",
    "\n",
    "- Let's try to form teams of 3 or 4 now (can use Zoom chat, text, email)\n",
    "- **Head into Breakout rooms and discuss project ideas** \n",
    "    - Which project ideas so far interest you?\n",
    "    - Do you have a sense of what ML techniques might be interesting to try on that problem? \n",
    "    - _Note: If regression, you can still use ML to build variables as **inputs** to regression analysis (a la Assignment 5)_\n",
    "\n",
    "### After/during class\n",
    "\n",
    "Formally form teams: \n",
    "- Go to https://classroom.github.com/g/nv0-pqH7 . \n",
    "- The first person on the team that goes there creates the team. The rest join.\n",
    "- I might have to tweak the teams\n"
   ]
  }
 ],
 "metadata": {
  "celltoolbar": "Tags",
  "kernelspec": {
   "display_name": "Python 3",
   "language": "python",
   "name": "python3"
  },
  "language_info": {
   "codemirror_mode": {
    "name": "ipython",
    "version": 3
   },
   "file_extension": ".py",
   "mimetype": "text/x-python",
   "name": "python",
   "nbconvert_exporter": "python",
   "pygments_lexer": "ipython3",
   "version": "3.7.6"
  }
 },
 "nbformat": 4,
 "nbformat_minor": 4
}
