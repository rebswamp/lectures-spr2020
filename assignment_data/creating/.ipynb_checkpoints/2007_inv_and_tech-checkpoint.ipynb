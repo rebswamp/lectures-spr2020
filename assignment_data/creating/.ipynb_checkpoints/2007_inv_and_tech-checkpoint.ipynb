{
 "cells": [
  {
   "cell_type": "code",
   "execution_count": 1,
   "metadata": {},
   "outputs": [],
   "source": [
    "import pandas as pd\n",
    "import numpy as np\n",
    "\n",
    "# these only work on my laptop - but a relative path is just as silly, and I'm not copying these files here\n",
    "\n",
    "ccm_path = 'C:\\\\Users\\\\DonsLaptop\\\\Desktop\\\\licORbuy-analysis\\\\fy_tests-03v0-04v0\\\\temp\\\\fy_ccm_plus_grantsAndTrans.dta'\n",
    "edgar_path = 'C:\\\\Users\\\\DonsLaptop\\\\Dropbox\\\\Research Dropbox\\\\Projects\\\\Patents\\\\02 Get and Parse 10ks\\\\10 python to download 10ks\\\\list_10Ks.csv'"
   ]
  },
  {
   "cell_type": "markdown",
   "metadata": {},
   "source": [
    "# Get manageable CCM\n",
    "\n",
    "Requirements:\n",
    "1. 2008 (outcome year) and 2007 (lagged controls)\n",
    "2. SIC2 = 73 (\"Business services, contains Apple and others)\n",
    "3. Have recent patents (`stock15dep_pats_granted > 0`)\n",
    "4. The firm exists (with the above filters) in both years.\n",
    "\n",
    "Students only need to pull 169 10-Ks."
   ]
  },
  {
   "cell_type": "code",
   "execution_count": 12,
   "metadata": {},
   "outputs": [],
   "source": [
    "ccm_with_tech = pd.read_stata(ccm_path)"
   ]
  },
  {
   "cell_type": "code",
   "execution_count": 13,
   "metadata": {},
   "outputs": [],
   "source": [
    "subsample = (ccm_with_tech\n",
    "             .assign(sic2 = ccm_with_tech['sic3']//10)\n",
    "             .query('sic2==73 & (fyear == 2007 | fyear == 2008 )')\n",
    "             .query('stock15dep_pats_granted > 0')\n",
    "            )\n"
   ]
  },
  {
   "cell_type": "code",
   "execution_count": 14,
   "metadata": {},
   "outputs": [
    {
     "data": {
      "text/plain": [
       "2008.0    213\n",
       "2007.0    213\n",
       "Name: fyear, dtype: int64"
      ]
     },
     "execution_count": 14,
     "metadata": {},
     "output_type": "execute_result"
    }
   ],
   "source": [
    "subsample['fyear'].value_counts() # 2007 firms need to get pulled "
   ]
  },
  {
   "cell_type": "code",
   "execution_count": 15,
   "metadata": {},
   "outputs": [
    {
     "name": "stdout",
     "output_type": "stream",
     "text": [
      "gvkey\n",
      "lpermno\n",
      "datadate\n",
      "fyear\n",
      "sic\n",
      "sic3\n",
      "td\n",
      "long_debt_dum\n",
      "me\n",
      "l_a\n",
      "l_sale\n",
      "div_d\n",
      "age\n",
      "atr\n",
      "smalltaxlosscarry\n",
      "largetaxlosscarry\n",
      "gdpdef\n",
      "l_reala\n",
      "l_reallongdebt\n",
      "kz_index\n",
      "ww_index\n",
      "hp_index\n",
      "ww_unconstrain\n",
      "ww_constrained\n",
      "kz_unconstrain\n",
      "kz_constrained\n",
      "hp_unconstrain\n",
      "hp_constrained\n",
      "tnic3hhi\n",
      "tnic3tsimm\n",
      "prodmktfluid\n",
      "delaycon\n",
      "equitydelaycon\n",
      "debtdelaycon\n",
      "privdelaycon\n",
      "at_raw\n",
      "raw_Inv\n",
      "raw_Ch_Cash\n",
      "raw_Div\n",
      "raw_Ch_Debt\n",
      "raw_Ch_Eqty\n",
      "raw_Ch_WC\n",
      "raw_CF\n",
      "l_emp\n",
      "l_ppent\n",
      "l_laborratio\n",
      "Inv\n",
      "Ch_Cash\n",
      "Div\n",
      "Ch_Debt\n",
      "Ch_Eqty\n",
      "Ch_WC\n",
      "CF\n",
      "td_a\n",
      "td_mv\n",
      "mb\n",
      "prof_a\n",
      "ppe_a\n",
      "cash_a\n",
      "xrd_a\n",
      "dltt_a\n",
      "invopps_FG09\n",
      "sales_g\n",
      "dv_a\n",
      "short_debt\n",
      "fy_flow_or_n_license\n",
      "fy_flow_or_citew_license\n",
      "fy_flow_or_n_sale\n",
      "fy_flow_or_citew_sale\n",
      "fy_flow_ee_n_license\n",
      "fy_flow_ee_citew_license\n",
      "fy_flow_ee_n_sale\n",
      "fy_flow_ee_citew_sale\n",
      "fy_stock15_or_n_license\n",
      "fy_stock15_or_citew_license\n",
      "fy_stock15_or_n_sale\n",
      "fy_stock15_or_citew_sale\n",
      "fy_stock15_ee_n_license\n",
      "fy_stock15_ee_citew_license\n",
      "fy_stock15_ee_n_sale\n",
      "fy_stock15_ee_citew_sale\n",
      "flow_citesgiven_all\n",
      "flow_citesReceived_all\n",
      "flow_pats_granted\n",
      "flow_adj_originality\n",
      "flow_adj_generality\n",
      "stock15dep_citesReceived_all\n",
      "stock15dep_pats_granted\n",
      "frac_selfcite\n",
      "obsolescense\n",
      "q_tot\n",
      "rd_lag_ppe_plus_kint\n",
      "k_int_frac\n",
      "inv_lag_a\n",
      "rd_lag_a\n",
      "rd_lag_inv\n",
      "rd_lag_sale\n",
      "rd_lag_xsga\n",
      "aqc_lag_a\n",
      "netcapx_lag_a\n",
      "inv_lag_ppe\n",
      "netcapx_lag_ppegt\n",
      "netcapx_lag_ppent\n",
      "inv_lag_ppegt\n",
      "xad_lag_a\n",
      "xsga_cogs\n",
      "xsga_sale\n",
      "xsga_at\n",
      "cogs_sale\n",
      "oibdp_sale\n",
      "ni_sale\n",
      "xad_cogs\n",
      "xad_at\n",
      "xad_sale\n",
      "pcm\n",
      "frac_sic3_oibdp\n",
      "frac_sic3_sale\n",
      "frac_sic3_xrd\n",
      "frac_sic3_xad\n",
      "frac_sic3_k_int\n",
      "frac_sic3_capx\n",
      "permno\n",
      "year\n",
      "cite_uspc_hhi_running\n",
      "cite_uspc_hhi_20year\n",
      "cite_sic_hhi_running\n",
      "cite_sic_hhi_20year\n",
      "stock_grant\n",
      "stock_grant_citew\n",
      "stock_trans_in\n",
      "stock_trans_in_citew\n",
      "stock_trans_out\n",
      "stock_trans_out_citew\n",
      "flow_grant\n",
      "flow_grant_citew\n",
      "flow_trans_in\n",
      "flow_trans_in_citew\n",
      "flow_trans_out\n",
      "flow_trans_out_citew\n",
      "l_stock_grant\n",
      "l_stock_grant_citew\n",
      "l_stock_trans_in\n",
      "l_stock_trans_in_citew\n",
      "l_stock_trans_out\n",
      "l_stock_trans_out_citew\n",
      "l_flow_grant\n",
      "l_flow_grant_citew\n",
      "l_flow_trans_in\n",
      "l_flow_trans_in_citew\n",
      "l_flow_trans_out\n",
      "l_flow_trans_out_citew\n",
      "bcg_mtrnoint\n",
      "bcg_mtrint\n",
      "mtr_before_int\n",
      "mtr_after_int\n",
      "q20_stock_grant\n",
      "q20_stock_grant_citew\n",
      "q20_stock_trans_in\n",
      "q20_stock_trans_in_citew\n",
      "q20_stock_trans_out\n",
      "q20_stock_trans_out_citew\n",
      "q20_flow_grant\n",
      "q20_flow_grant_citew\n",
      "q20_flow_trans_in\n",
      "q20_flow_trans_in_citew\n",
      "q20_flow_trans_out\n",
      "q20_flow_trans_out_citew\n",
      "sic2\n"
     ]
    }
   ],
   "source": [
    "for col in subsample.columns:\n",
    "    print(col)\n"
   ]
  },
  {
   "cell_type": "code",
   "execution_count": 16,
   "metadata": {},
   "outputs": [],
   "source": [
    "# keep some vars, including new (to students) technology vars\n",
    "keep_vars = [\n",
    "    'gvkey', 'fyear', 'datadate', 'lpermno', 'gsector', 'sic', 'sic3', \n",
    "    'age', 'tic', 'state', 'at', 'me', 'l_a', 'l_sale', 'prof_a', 'mb', \n",
    "    'ppe_a', 'capx_a', 'xrd_a','inv_lag_a', 'cash_a', 'div_d', 'td', 'td_a', 'td_mv', \n",
    "    'dltt_a', 'dv_a', 'invopps_FG09', 'sales_g', 'tnic3hhi', 'tnic3tsimm', \n",
    "    'prodmktfluid', 'delaycon', 'l_emp', 'l_ppent', 'l_laborratio',    \n",
    "    'l_stock_grant_citew', 'l_stock_trans_in_citew','l_stock_trans_out_citew'\n",
    "]\n",
    "subsample = subsample.filter(keep_vars)"
   ]
  },
  {
   "cell_type": "code",
   "execution_count": 17,
   "metadata": {},
   "outputs": [],
   "source": [
    "subsample = subsample.rename(columns={\n",
    "    'inv_lag_a'               :  'capx_a'})\n",
    "#     'l_stock_grant_citew'     :  'Log(Own Patent Stock)', \n",
    "#     'l_stock_trans_in_citew'  :  'Log(Acquired Patent Stock)',\n",
    "#     'l_stock_trans_out_citew' :  'Log(Divested Patent Stock)',"
   ]
  },
  {
   "cell_type": "code",
   "execution_count": 18,
   "metadata": {},
   "outputs": [
    {
     "data": {
      "text/plain": [
       "169"
      ]
     },
     "execution_count": 18,
     "metadata": {},
     "output_type": "execute_result"
    }
   ],
   "source": [
    "# keep only firms in both years\n",
    "subsample = subsample.loc[subsample.duplicated(subset='gvkey',keep=False)].sort_values(['gvkey','fyear'])\n",
    "\n",
    "# check that all firms are in 2007+2008 = 4015\n",
    "assert subsample.groupby('gvkey')['fyear'].sum().mean() == 4015 \n",
    "\n",
    "subsample['gvkey'].nunique()"
   ]
  },
  {
   "cell_type": "markdown",
   "metadata": {},
   "source": [
    "# Bring in Data for Filings"
   ]
  },
  {
   "cell_type": "code",
   "execution_count": 19,
   "metadata": {},
   "outputs": [],
   "source": [
    "edgar = pd.read_csv(edgar_path).filter(['gvkey','CIK','FDATE','Form','CoName','FName'])\n",
    "\n",
    "# convert date var to date format\n",
    "edgar['FDATE'] = pd.to_datetime(edgar['FDATE'].astype(str), format='%Y%m%d') \n",
    "edgar['fyear']   = edgar['FDATE'].dt.year\n",
    "edgar['fyear']   = np.where(edgar['FDATE'].dt.month < 7, edgar['fyear']-1, edgar['fyear']) \n",
    "\n",
    "# keep 2007 and drop duplicates (keep the last of the year, often a revision)\n",
    "edgar = edgar.query('fyear == 2007')\n",
    "edgar = edgar.loc[~edgar.duplicated(subset = 'gvkey',keep='last')]"
   ]
  },
  {
   "cell_type": "code",
   "execution_count": 20,
   "metadata": {},
   "outputs": [],
   "source": [
    "# output\n",
    "(pd\n",
    "     .merge(subsample,edgar,on=['gvkey','fyear'],how='left')\n",
    "     .sort_values(['gvkey','fyear'])\n",
    "     .to_stata('../2007_inv_and_tech.dta')\n",
    ")"
   ]
  }
 ],
 "metadata": {
  "kernelspec": {
   "display_name": "Python 3",
   "language": "python",
   "name": "python3"
  },
  "language_info": {
   "codemirror_mode": {
    "name": "ipython",
    "version": 3
   },
   "file_extension": ".py",
   "mimetype": "text/x-python",
   "name": "python",
   "nbconvert_exporter": "python",
   "pygments_lexer": "ipython3",
   "version": "3.7.6"
  }
 },
 "nbformat": 4,
 "nbformat_minor": 2
}
